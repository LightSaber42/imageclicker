{
 "cells": [
  {
   "cell_type": "code",
   "execution_count": null,
   "metadata": {},
   "outputs": [],
   "source": [
    "# default_exp core"
   ]
  },
  {
   "cell_type": "markdown",
   "metadata": {},
   "source": [
    "# imageclicker\n",
    "\n",
    "> API details."
   ]
  },
  {
   "cell_type": "code",
   "execution_count": 9,
   "metadata": {},
   "outputs": [],
   "source": [
    "#hide\n",
    "from nbdev.showdoc import *"
   ]
  },
  {
   "cell_type": "code",
   "execution_count": 12,
   "metadata": {},
   "outputs": [
    {
     "name": "stdout",
     "output_type": "stream",
     "text": [
      "637.0, 431.0, 1.0, C:\\Users\\lou\\Pictures\\10-5-2019 2-19 PM Office Lens (1).jpg\n",
      "631.0, 401.0, 1.0, C:\\Users\\lou\\Pictures\\10-5-2019 2-19 PM Office Lens (2).jpg\n",
      "2512.8157407407407, 1336.7962962962963, 0.5535622757560226, C:\\Users\\lou\\Pictures\\DSC_0195r (2).jpg\n",
      "2525.461111111111, 1327.763888888889, 0.5535622757560226, C:\\Users\\lou\\Pictures\\DSC_0195r.jpg\n",
      "2561.8370370370367, 1838.9657407407406, 0.42469524184034607, C:\\Users\\lou\\Pictures\\DSC_0195_3.jpg\n",
      "1602.3069001029867, 734.7476828012358, 0.9336538461538462, C:\\Users\\lou\\Pictures\\IMG_20180327_141304556.jpg\n"
     ]
    }
   ],
   "source": [
    "#export\n",
    "from PIL import ImageTk,Image \n",
    "\n",
    "from pathlib import Path\n",
    "file = Path(r\"C:\\Users\\lou\\Pictures\\10-5-2019 2-19 PM Office Lens (1).jpg\")\n",
    "resolution = [1920,1080]\n",
    "\n",
    "p = file.parent.glob('*jpg')\n",
    "files = [x for x in p if x.is_file()]\n",
    "\n",
    "import tkinter as tk\n",
    "from PIL import ImageTk,Image \n",
    "\n",
    "\n",
    "for f in files:\n",
    "    root = tk.Tk()\n",
    "    im = Image.open(f)\n",
    "    h_before = im.height\n",
    "    im.thumbnail(resolution,Image.ANTIALIAS)\n",
    "    scaling_factor = im.height / h_before    \n",
    "    \n",
    "    def motion(event):\n",
    "        global file, myimg\n",
    "        x, y = event.x, event.y\n",
    "        print(f\"{x/scaling_factor}, {y/scaling_factor}, {scaling_factor}, {f}\")\n",
    "        root.destroy()\n",
    "\n",
    "\n",
    "    # label = tk.Label(image=img)\n",
    "    # label.pack()\n",
    "\n",
    "    cv = tk.Canvas(width=im.width,height=im.height)  \n",
    "    cv.pack(side='top', fill='both', expand='yes') \n",
    "    img = ImageTk.PhotoImage(im)  \n",
    "    myimg = cv.create_image(0, 0, image=img, anchor='nw')  \n",
    "\n",
    "    root.bind('<Button-1>', motion)\n",
    "    root.mainloop()\n"
   ]
  },
  {
   "cell_type": "code",
   "execution_count": null,
   "metadata": {},
   "outputs": [],
   "source": []
  }
 ],
 "metadata": {
  "kernelspec": {
   "display_name": "Python 3",
   "language": "python",
   "name": "python3"
  },
  "language_info": {
   "codemirror_mode": {
    "name": "ipython",
    "version": 3
   },
   "file_extension": ".py",
   "mimetype": "text/x-python",
   "name": "python",
   "nbconvert_exporter": "python",
   "pygments_lexer": "ipython3",
   "version": "3.6.10"
  }
 },
 "nbformat": 4,
 "nbformat_minor": 2
}
